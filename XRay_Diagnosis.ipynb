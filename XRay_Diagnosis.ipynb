{
 "cells": [
  {
   "cell_type": "code",
   "execution_count": 1,
   "metadata": {},
   "outputs": [
    {
     "name": "stderr",
     "output_type": "stream",
     "text": [
      "Using TensorFlow backend.\n"
     ]
    }
   ],
   "source": [
    "import os\n",
    "import sys\n",
    "import glob\n",
    "import matplotlib\n",
    "import numpy as np\n",
    "matplotlib.use('agg')\n",
    "import matplotlib.pyplot as plt\n",
    "from PIL import Image\n",
    "import cv2\n",
    "\n",
    "from keras import backend as K\n",
    "from keras import __version__\n",
    "from keras.applications.inception_v3 import InceptionV3, preprocess_input\n",
    "from keras.models import Model\n",
    "from keras.layers import Dense, AveragePooling2D, GlobalAveragePooling2D, Input, Flatten, Dropout, BatchNormalization\n",
    "from keras.preprocessing.image import ImageDataGenerator\n",
    "from keras.optimizers import SGD\n",
    "from keras.callbacks import ReduceLROnPlateau , ModelCheckpoint , LearningRateScheduler\n",
    "from keras.preprocessing import image\n",
    "from keras.models import load_model"
   ]
  },
  {
   "cell_type": "code",
   "execution_count": 2,
   "metadata": {},
   "outputs": [],
   "source": [
    "IM_WIDTH, IM_HEIGHT = 299, 299 \n",
    "NB_EPOCHS = 3\n",
    "BAT_SIZE = 32\n",
    "FC_SIZE = 1024\n",
    "filepath=\"weights_3.h5\"\n",
    "\n",
    "%matplotlib inline"
   ]
  },
  {
   "cell_type": "code",
   "execution_count": 8,
   "metadata": {},
   "outputs": [],
   "source": [
    "def get_nb_files(directory):\n",
    "    \"\"\"Get number of files by searching directory recursively\"\"\"\n",
    "    if not os.path.exists(directory):\n",
    "        return 0\n",
    "    cnt = 0\n",
    "    for r, dirs, files in os.walk(directory):\n",
    "        for dr in dirs:\n",
    "            cnt += len(glob.glob(os.path.join(r, dr + \"/*\")))\n",
    "    return cnt"
   ]
  },
  {
   "cell_type": "code",
   "execution_count": 9,
   "metadata": {},
   "outputs": [],
   "source": [
    "def setup_to_transfer_learn(model, base_model):\n",
    "    \"\"\"Freeze all layers and compile the model\"\"\"\n",
    "    for layer in base_model.layers:\n",
    "        layer.trainable = False\n",
    "    model.compile(optimizer='adam',\n",
    "                  loss='categorical_crossentropy',\n",
    "                  metrics=['accuracy'])"
   ]
  },
  {
   "cell_type": "code",
   "execution_count": 10,
   "metadata": {},
   "outputs": [],
   "source": [
    "def add_new_last_layer(base_model, nb_classes):\n",
    "    x = base_model.output\n",
    "    x = Dropout(0.5)(x)\n",
    "    x = AveragePooling2D((8, 8), border_mode='valid', name='avg_pool')(x)\n",
    "    x = Dense(128, activation='relu')(x)\n",
    "    x = BatchNormalization()(x)\n",
    "    x = Dropout(0.4)(x)\n",
    "    x = Flatten()(x)\n",
    "    predictions = Dense(2, activation='sigmoid')(x)\n",
    "    model = Model(input=base_model.input, output=predictions)\n",
    "    return model"
   ]
  },
  {
   "cell_type": "code",
   "execution_count": 11,
   "metadata": {},
   "outputs": [
    {
     "name": "stderr",
     "output_type": "stream",
     "text": [
      "/home/costa/anaconda3/lib/python3.6/site-packages/keras/callbacks.py:1065: UserWarning: `epsilon` argument is deprecated and will be removed, use `min_delta` instead.\n",
      "  warnings.warn('`epsilon` argument is deprecated and '\n"
     ]
    }
   ],
   "source": [
    "## For best Val ACC found, save the model at that epoch\n",
    "lr_reduce = ReduceLROnPlateau(monitor='val_acc', factor=0.1, epsilon=0.0001, patience=1, verbose=1)\n",
    "checkpoint = ModelCheckpoint(filepath, monitor='val_acc', verbose=1, save_best_only=True, mode='max')"
   ]
  },
  {
   "cell_type": "code",
   "execution_count": 12,
   "metadata": {},
   "outputs": [],
   "source": [
    "def train(epochs, output_model_file, plot = True ):\n",
    "    \"\"\"Using transfer learning \"\"\"\n",
    "    train_img = 'train/' \n",
    "    validation_img = 'val/'\n",
    "    nb_epoch = int(epochs)\n",
    "    nb_train_samples = get_nb_files(train_img)\n",
    "    nb_classes = len(glob.glob(train_img + \"/*\"))\n",
    "    # data prep\n",
    "    train_datagen = ImageDataGenerator(\n",
    "        rotation_range=40,\n",
    "        width_shift_range=0.2,\n",
    "        height_shift_range=0.2,\n",
    "        rescale=1./255,\n",
    "        shear_range=0.2,\n",
    "        zoom_range=0.2,\n",
    "        horizontal_flip=True,\n",
    "        fill_mode='nearest')\n",
    "\n",
    "    validation_datagen = ImageDataGenerator(\n",
    "        rotation_range=40,\n",
    "        width_shift_range=0.2,\n",
    "        height_shift_range=0.2,\n",
    "        rescale=1./255,\n",
    "        shear_range=0.2,\n",
    "        zoom_range=0.2,\n",
    "        horizontal_flip=True,\n",
    "        fill_mode='nearest')\n",
    "\n",
    "    \n",
    "    train_generator = train_datagen.flow_from_directory(\n",
    "\t\t\ttrain_img,\n",
    "\t\t\ttarget_size=(299, 299),\n",
    "\t\t\tbatch_size=32,\n",
    "\t\t\tclass_mode='categorical'\n",
    "\t\t\t)\n",
    "    validation_generator = validation_datagen.flow_from_directory(\n",
    "\t\t\tvalidation_img,\n",
    "\t\t\ttarget_size=(299, 299),\n",
    "\t\t\tbatch_size=32,\n",
    "\t\t\tclass_mode='categorical'\n",
    "\t\t\t)\n",
    "    if(K.image_dim_ordering() == 'th'):\n",
    "        input_tensor = Input(shape=(3, 299, 299))\n",
    "    else:\n",
    "        input_tensor = Input(shape=(299, 299, 3))\n",
    "    \n",
    "    # setup model\n",
    "    base_model = InceptionV3(input_tensor = input_tensor,weights='imagenet', include_top=False) #include_top=False excludes final FC layer\n",
    "    model = add_new_last_layer(base_model, nb_classes)\n",
    "    \n",
    "    # transfer learning\n",
    "    setup_to_transfer_learn(model, base_model)\n",
    "    \n",
    "    \n",
    "    \n",
    "    history_tl = model.fit_generator(train_generator,\n",
    "                                   samples_per_epoch=320,\n",
    "                                   nb_epoch=nb_epoch,\n",
    "                                   validation_data=validation_generator,\n",
    "                                   nb_val_samples=64,\n",
    "                                   callbacks=[lr_reduce,checkpoint]) \n",
    "    model.save(output_model_file)\n",
    "    if plot:\n",
    "        plot_training(history_tl)"
   ]
  },
  {
   "cell_type": "code",
   "execution_count": 13,
   "metadata": {},
   "outputs": [],
   "source": [
    "def plot_training(history):\n",
    "    acc = history.history['acc']\n",
    "    val_acc = history.history['val_acc']\n",
    "    loss = history.history['loss']\n",
    "    val_loss = history.history['val_loss']\n",
    "    epochs = range(len(acc))\n",
    "    \n",
    "    plt.plot(epochs, acc, 'r.')\n",
    "    plt.plot(epochs, val_acc, 'r')\n",
    "    plt.title('Training and validation accuracy')\n",
    "    plt.savefig('accuracy.png')\n",
    "    \n",
    "    plt.figure()\n",
    "    plt.plot(epochs, loss, 'r.')\n",
    "    plt.plot(epochs, val_loss, 'r-')\n",
    "    plt.title('Training and validation loss')\n",
    "    plt.savefig('loss.png')"
   ]
  },
  {
   "cell_type": "code",
   "execution_count": 14,
   "metadata": {},
   "outputs": [
    {
     "name": "stdout",
     "output_type": "stream",
     "text": [
      "Found 7705 images belonging to 2 classes.\n",
      "Found 16 images belonging to 2 classes.\n"
     ]
    },
    {
     "name": "stderr",
     "output_type": "stream",
     "text": [
      "/home/costa/anaconda3/lib/python3.6/site-packages/ipykernel_launcher.py:4: UserWarning: Update your `AveragePooling2D` call to the Keras 2 API: `AveragePooling2D((8, 8), name=\"avg_pool\", padding=\"valid\")`\n",
      "  after removing the cwd from sys.path.\n",
      "/home/costa/anaconda3/lib/python3.6/site-packages/ipykernel_launcher.py:10: UserWarning: Update your `Model` call to the Keras 2 API: `Model(inputs=Tensor(\"in..., outputs=Tensor(\"de...)`\n",
      "  # Remove the CWD from sys.path while we load stuff.\n",
      "/home/costa/anaconda3/lib/python3.6/site-packages/ipykernel_launcher.py:61: UserWarning: The semantics of the Keras 2 argument `steps_per_epoch` is not the same as the Keras 1 argument `samples_per_epoch`. `steps_per_epoch` is the number of batches to draw from the generator at each epoch. Basically steps_per_epoch = samples_per_epoch/batch_size. Similarly `nb_val_samples`->`validation_steps` and `val_samples`->`steps` arguments have changed. Update your method calls accordingly.\n",
      "/home/costa/anaconda3/lib/python3.6/site-packages/ipykernel_launcher.py:61: UserWarning: Update your `fit_generator` call to the Keras 2 API: `fit_generator(<keras_pre..., validation_data=<keras_pre..., callbacks=[<keras.ca..., steps_per_epoch=10, epochs=10, validation_steps=64)`\n"
     ]
    },
    {
     "name": "stdout",
     "output_type": "stream",
     "text": [
      "Epoch 1/10\n",
      "10/10 [==============================] - 31s 3s/step - loss: 0.5372 - acc: 0.7000 - val_loss: 1.2933 - val_acc: 0.6377\n",
      "\n",
      "Epoch 00001: val_acc improved from -inf to 0.63770, saving model to weights_3.h5\n",
      "Epoch 2/10\n",
      "10/10 [==============================] - 22s 2s/step - loss: 0.3502 - acc: 0.8500 - val_loss: 0.6821 - val_acc: 0.7451\n",
      "\n",
      "Epoch 00002: val_acc improved from 0.63770 to 0.74512, saving model to weights_3.h5\n",
      "Epoch 3/10\n",
      "10/10 [==============================] - 23s 2s/step - loss: 0.3490 - acc: 0.8562 - val_loss: 0.6378 - val_acc: 0.7900\n",
      "\n",
      "Epoch 00003: val_acc improved from 0.74512 to 0.79004, saving model to weights_3.h5\n",
      "Epoch 4/10\n",
      "10/10 [==============================] - 28s 3s/step - loss: 0.3241 - acc: 0.8562 - val_loss: 1.9259 - val_acc: 0.5820\n",
      "\n",
      "Epoch 00004: ReduceLROnPlateau reducing learning rate to 0.00010000000474974513.\n",
      "\n",
      "Epoch 00004: val_acc did not improve from 0.79004\n",
      "Epoch 5/10\n",
      "10/10 [==============================] - 24s 2s/step - loss: 0.3235 - acc: 0.8781 - val_loss: 1.5957 - val_acc: 0.6094\n",
      "\n",
      "Epoch 00005: ReduceLROnPlateau reducing learning rate to 1.0000000474974514e-05.\n",
      "\n",
      "Epoch 00005: val_acc did not improve from 0.79004\n",
      "Epoch 6/10\n",
      "10/10 [==============================] - 26s 3s/step - loss: 0.2489 - acc: 0.9313 - val_loss: 1.5252 - val_acc: 0.6211\n",
      "\n",
      "Epoch 00006: ReduceLROnPlateau reducing learning rate to 1.0000000656873453e-06.\n",
      "\n",
      "Epoch 00006: val_acc did not improve from 0.79004\n",
      "Epoch 7/10\n",
      "10/10 [==============================] - 26s 3s/step - loss: 0.2535 - acc: 0.9031 - val_loss: 1.4713 - val_acc: 0.6367\n",
      "\n",
      "Epoch 00007: ReduceLROnPlateau reducing learning rate to 1.0000001111620805e-07.\n",
      "\n",
      "Epoch 00007: val_acc did not improve from 0.79004\n",
      "Epoch 8/10\n",
      "10/10 [==============================] - 26s 3s/step - loss: 0.3078 - acc: 0.9062 - val_loss: 1.2995 - val_acc: 0.6572\n",
      "\n",
      "Epoch 00008: ReduceLROnPlateau reducing learning rate to 1.000000082740371e-08.\n",
      "\n",
      "Epoch 00008: val_acc did not improve from 0.79004\n",
      "Epoch 9/10\n",
      "10/10 [==============================] - 26s 3s/step - loss: 0.2739 - acc: 0.9031 - val_loss: 1.2785 - val_acc: 0.6660\n",
      "\n",
      "Epoch 00009: ReduceLROnPlateau reducing learning rate to 1.000000082740371e-09.\n",
      "\n",
      "Epoch 00009: val_acc did not improve from 0.79004\n",
      "Epoch 10/10\n",
      "10/10 [==============================] - 26s 3s/step - loss: 0.3233 - acc: 0.8781 - val_loss: 1.2427 - val_acc: 0.6699\n",
      "\n",
      "Epoch 00010: ReduceLROnPlateau reducing learning rate to 1.000000082740371e-10.\n",
      "\n",
      "Epoch 00010: val_acc did not improve from 0.79004\n"
     ]
    },
    {
     "data": {
      "image/png": "[encoded data removed]",
      "text/plain": [
       "<Figure size 432x288 with 1 Axes>"
      ]
     },
     "metadata": {},
     "output_type": "display_data"
    },
    {
     "data": {
      "image/png": "[encoded data removed]",
      "text/plain": [
       "<Figure size 432x288 with 1 Axes>"
      ]
     },
     "metadata": {},
     "output_type": "display_data"
    }
   ],
   "source": [
    "train(epochs = 10, output_model_file = 'new_model.h5')"
   ]
  },
  {
   "cell_type": "markdown",
   "metadata": {},
   "source": [
    "### Validation accuracy achieved ~80%. "
   ]
  },
  {
   "cell_type": "markdown",
   "metadata": {},
   "source": [
    "## Predictions on test data"
   ]
  },
  {
   "cell_type": "code",
   "execution_count": 3,
   "metadata": {},
   "outputs": [],
   "source": [
    "target_size = (299, 299) # for inceptionv3"
   ]
  },
  {
   "cell_type": "code",
   "execution_count": 4,
   "metadata": {},
   "outputs": [],
   "source": [
    "def predict(model, img, target_size = target_size):\n",
    "    img = cv2.imread(img)\n",
    "    img = cv2.resize(img,(299,299))\n",
    "    x = np.reshape(img,[299,299,3])\n",
    "    x = np.expand_dims(x, axis=0)\n",
    "    x = preprocess_input(x)\n",
    "    preds = model.predict(x)\n",
    "    return preds[0]"
   ]
  },
  {
   "cell_type": "code",
   "execution_count": 25,
   "metadata": {},
   "outputs": [],
   "source": [
    "def plot_preds(image, preds):\n",
    "    labels = (\"NORMAL\", \"PNEUMONIA\")\n",
    "    plt.barh([0, 1], preds, alpha=0.5)\n",
    "    plt.yticks([0, 1], labels)\n",
    "    plt.xlabel('Probabilities')\n",
    "    plt.xlim(0,1.01)\n",
    "    plt.tight_layout()"
   ]
  },
  {
   "cell_type": "code",
   "execution_count": 6,
   "metadata": {},
   "outputs": [],
   "source": [
    "# Load saved model\n",
    "model = load_model('weights_3.h5')"
   ]
  },
  {
   "cell_type": "markdown",
   "metadata": {},
   "source": [
    "### 0: Normal    1: Pneumonia"
   ]
  },
  {
   "cell_type": "code",
   "execution_count": 26,
   "metadata": {},
   "outputs": [
    {
     "data": {
      "image/png": "[encoded data removed]",
      "text/plain": [
       "<Figure size 432x288 with 1 Axes>"
      ]
     },
     "metadata": {},
     "output_type": "display_data"
    }
   ],
   "source": [
    "# Pred 1\n",
    "img =  'test/PNEUMONIA/person48_virus_100.jpeg'\n",
    "preds = predict(model, img)\n",
    "plot_preds(img, preds)"
   ]
  },
  {
   "cell_type": "code",
   "execution_count": 29,
   "metadata": {},
   "outputs": [
    {
     "name": "stdout",
     "output_type": "stream",
     "text": [
      "1\n"
     ]
    }
   ],
   "source": [
    "res = np.argmax(preds)\n",
    "print(res)   "
   ]
  },
  {
   "cell_type": "code",
   "execution_count": 30,
   "metadata": {},
   "outputs": [
    {
     "data": {
      "image/png": "[encoded data removed]",
      "text/plain": [
       "<Figure size 432x288 with 1 Axes>"
      ]
     },
     "metadata": {},
     "output_type": "display_data"
    }
   ],
   "source": [
    "# Pred 2\n",
    "img =  'test/NORMAL/IM-0105-0001.jpeg'\n",
    "preds = predict(model, img)\n",
    "plot_preds(img, preds)"
   ]
  },
  {
   "cell_type": "code",
   "execution_count": 31,
   "metadata": {},
   "outputs": [
    {
     "name": "stdout",
     "output_type": "stream",
     "text": [
      "0\n"
     ]
    }
   ],
   "source": [
    "res = np.argmax(preds)\n",
    "print(res)   "
   ]
  },
  {
   "cell_type": "code",
   "execution_count": 33,
   "metadata": {},
   "outputs": [
    {
     "data": {
      "image/png": "[encoded data removed]",
      "text/plain": [
       "<Figure size 432x288 with 1 Axes>"
      ]
     },
     "metadata": {},
     "output_type": "display_data"
    }
   ],
   "source": [
    "# Pred 3\n",
    "img =  'test/PNEUMONIA/person1672_virus_2888.jpeg'\n",
    "preds = predict(model, img)\n",
    "plot_preds(img, preds)"
   ]
  },
  {
   "cell_type": "code",
   "execution_count": 34,
   "metadata": {},
   "outputs": [
    {
     "name": "stdout",
     "output_type": "stream",
     "text": [
      "1\n"
     ]
    }
   ],
   "source": [
    "res = np.argmax(preds)\n",
    "print(res)   "
   ]
  },
  {
   "cell_type": "code",
   "execution_count": null,
   "metadata": {},
   "outputs": [],
   "source": []
  }
 ],
 "metadata": {
  "kernelspec": {
   "display_name": "Python 3",
   "language": "python",
   "name": "python3"
  },
  "language_info": {
   "codemirror_mode": {
    "name": "ipython",
    "version": 3
   },
   "file_extension": ".py",
   "mimetype": "text/x-python",
   "name": "python",
   "nbconvert_exporter": "python",
   "pygments_lexer": "ipython3",
   "version": "3.6.5"
  }
 },
 "nbformat": 4,
 "nbformat_minor": 2
}
